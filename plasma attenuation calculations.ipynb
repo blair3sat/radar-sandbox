{
 "cells": [
  {
   "cell_type": "markdown",
   "metadata": {},
   "source": [
    "# Plasma Attenuation Calculation\n",
    "\n",
    "The radar signal will be attenuated by the plasma. This notebook calculates this attenuation in dB. Note that this calculation does not include the free space path loss term, only the attenuation due to plasma oscillation.\n",
    "\n",
    "The formulas used for these calculations may be found in [this paper](https://fenix.tecnico.ulisboa.pt/downloadFile/281870113702780/resumo.pdf) and [this Wikipedia page](https://en.wikipedia.org/wiki/Plasma_oscillation)."
   ]
  },
  {
   "cell_type": "code",
   "execution_count": 1,
   "metadata": {},
   "outputs": [],
   "source": [
    "%matplotlib inline\n",
    "\n",
    "import numpy as np\n",
    "import pandas as pd\n",
    "import matplotlib.pyplot as plt\n",
    "\n",
    "SPEED_OF_LIGHT = 3e8         # m / s\n",
    "BOLTZMANNS = 1.38064852e-23  # m^2 kg s^-2 K^-1\n",
    "ELECTRON_CHARGE = -1.602e-19 # A s\n",
    "ELECTRON_MASS = 9.11e-31     # kg\n",
    "PERMITIVITY = 8.85418782e-12 # m^-3 kg^-1 s^4 A^2"
   ]
  },
  {
   "cell_type": "markdown",
   "metadata": {},
   "source": [
    "## Plasma Frequency\n",
    "\n",
    "Plasmas can reflect or refract EM waves. All signals below a certain frequency are reflected off the plasma. Signals above this frequency penetrate the plasma but are refracted as they pass through. The frequency below which all signals are reflected is called the plasma frequency or the critical frequency.\n",
    "\n",
    "The following formulas are from [Wikipedia](https://en.wikipedia.org/wiki/Plasma_oscillation). If the thermal motion of electrons in the plasma is ignored, then the plasma frequency\n",
    "\n",
    "$$\\omega_{\\mathrm{pe}} = \\sqrt{\\frac{n_\\mathrm{e} e^{2}}{m^*\\varepsilon_0}}, \\left[\\mathrm{rad/s}\\right]$$\n",
    "\n",
    "where $n_\\mathrm{e}$ is the number density of electrons, $e$ is the charge of an electron, $m^*$ is the (effective) mass of the electron, and $\\varepsilon_0$ is the permitivity of free space.\n",
    "\n",
    "In order to account for the thermal energy of the electrons, we add a correction term, giving us\n",
    "\n",
    "$$\\omega_p =\\sqrt{\\omega_{\\mathrm{pe}}^2 +\\frac{3k_\\mathrm{B}T_{\\mathrm{e}}}{m^*}k_{\\mathrm{tx}}^2}$$\n",
    "\n",
    "where $T_{\\mathrm{e}}$ is the temperature, $k_B$ is Boltzmann's constant, and $k_{\\mathrm{tx}}$ is the angular wavenumber of the transmitted signal."
   ]
  },
  {
   "cell_type": "code",
   "execution_count": 2,
   "metadata": {},
   "outputs": [],
   "source": [
    "def get_plasma_freq(tx_freq, density, temperature):\n",
    "    cold = np.sqrt(density * ELECTRON_CHARGE ** 2 / ELECTRON_MASS / PERMITIVITY)\n",
    "    wavenum = 2 * np.pi / (tx_freq / SPEED_OF_LIGHT)\n",
    "    hot = np.sqrt(cold ** 2 + 3 * BOLTZMANNS * temperature / ELECTRON_MASS * wavenum ** 2)\n",
    "    return hot"
   ]
  },
  {
   "cell_type": "markdown",
   "metadata": {},
   "source": [
    "# Attenuation Constant\n",
    "\n",
    "The attenuation constant is the ratio of transmitted signal power to remaining signal power per distance and it is expressed in [nepers](https://en.wikipedia.org/wiki/Neper).\n",
    "\n",
    "The following formula is from [this paper](https://fenix.tecnico.ulisboa.pt/downloadFile/281870113702780/resumo.pdf). The attenuation constant through a given body of plasma at a certain angle of attack is\n",
    "\n",
    "$$\\alpha = \\frac{\\omega_p ^2 \\theta}{2c(\\omega_{\\mathrm{tx}} + \\theta)}$$\n",
    "\n",
    "where $\\theta$ is the angle of attack, $\\omega_{\\mathrm{tx}}$ is the frequency of the transmitted signal, and $\\alpha$ is the attenuation constant in nepers."
   ]
  },
  {
   "cell_type": "code",
   "execution_count": 3,
   "metadata": {},
   "outputs": [],
   "source": [
    "def get_alpha(tx_freq, plasma_freq, angle):\n",
    "    nepers = plasma_freq ** 2 * angle / 2 / SPEED_OF_LIGHT / (tx_freq ** 2 + angle ** 2)\n",
    "    db = 20 * np.log10(np.e) * nepers    # convert to dB\n",
    "    return db"
   ]
  },
  {
   "cell_type": "markdown",
   "metadata": {},
   "source": [
    "# Non-Uniform Density Plasmas\n",
    "\n",
    "We are interested in calculating the attenuation through the ionosphere, which does not have uniform density. We may consider a sample sounding from the [UK Solar System Data Centre Prompt Ionospheric Database](https://www.ukssdc.ac.uk/cgi-bin/digisondes/cost_database.pl) for our calculations."
   ]
  },
  {
   "cell_type": "code",
   "execution_count": 4,
   "metadata": {},
   "outputs": [
    {
     "data": {
      "image/png": "[encoded data removed]",
      "text/plain": [
       "<Figure size 432x288 with 1 Axes>"
      ]
     },
     "metadata": {},
     "output_type": "display_data"
    }
   ],
   "source": [
    "df = pd.read_csv('./data/clean/NHPC_Profiles-20180822115931-23558_1', delim_whitespace=True)\n",
    "\n",
    "plt.plot(df['Density'], df['Height'])\n",
    "plt.title('Estimated Ionospheric Charge Density')\n",
    "plt.xlabel('Density (cm^-3)')\n",
    "plt.ylabel('Height (km)')\n",
    "plt.show()"
   ]
  },
  {
   "cell_type": "markdown",
   "metadata": {},
   "source": [
    "We want to calculate the attenuation through the entire path from TX to RX. Thus we will add up the attenuation along our path. The attenuation constant is in $\\mathrm{dB} \\mathrm{m}^-1$, so we may compute the attenuation along a path $\\mathcal{C}$ as\n",
    "\n",
    "$$\\int_\\mathcal{C} \\alpha \\, ds$$\n",
    "\n",
    "For our computation, we will consider the verticle incidence path mapped by the ionogram shown above."
   ]
  },
  {
   "cell_type": "code",
   "execution_count": 5,
   "metadata": {
    "scrolled": true
   },
   "outputs": [
    {
     "name": "stdout",
     "output_type": "stream",
     "text": [
      "2.6976715582025386 dB attenuation\n"
     ]
    }
   ],
   "source": [
    "def get_atten(tx_freq, temp, angle, df):\n",
    "    heights = df['Height'] * 1000          # km to meters\n",
    "    dheights = np.diff(heights)\n",
    "    densities = df['Density'] / 10 ** 6    # cm^-3 to m^-3\n",
    "    \n",
    "    accum = 0\n",
    "    for i in range(1, len(heights)):\n",
    "        accum += get_alpha(tx_freq, get_plasma_freq(tx_freq, densities[i], temp), angle) * dheights[i - 1]\n",
    "    \n",
    "    return 2 * accum    # up and down\n",
    "\n",
    "\n",
    "print(str(get_atten(4e6, 200, np.pi / 2, df)) + ' dB attenuation')   # x2 for going up and down"
   ]
  }
 ],
 "metadata": {
  "kernelspec": {
   "display_name": "Python 3",
   "language": "python",
   "name": "python3"
  },
  "language_info": {
   "codemirror_mode": {
    "name": "ipython",
    "version": 3
   },
   "file_extension": ".py",
   "mimetype": "text/x-python",
   "name": "python",
   "nbconvert_exporter": "python",
   "pygments_lexer": "ipython3",
   "version": "3.6.6"
  }
 },
 "nbformat": 4,
 "nbformat_minor": 2
}
