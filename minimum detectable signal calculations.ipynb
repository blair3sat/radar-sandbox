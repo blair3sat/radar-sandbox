{
 "cells": [
  {
   "cell_type": "code",
   "execution_count": 2,
   "metadata": {},
   "outputs": [
    {
     "name": "stdout",
     "output_type": "stream",
     "text": [
      "-61.60946863973717 dB required\n"
     ]
    }
   ],
   "source": [
    "import numpy as np\n",
    "\n",
    "BOLTZMANNS = 1.38064852e-23  # m^2 kg s^-2 K^-1\n",
    "\n",
    "\n",
    "def noise_floor(temp, noise_figure, detect_bw):\n",
    "    return 10 * np.log10(BOLTZMANNS * temp * 1e3) + noise_figure + 10 * np.log10(detect_bw)\n",
    "\n",
    "\n",
    "def min_detect_sig(noise_floor, req_snr):\n",
    "    return noise_floor + req_snr\n",
    "\n",
    "print(str(min_detect_sig(noise_floor(500, 10, 1e8), 20)) + ' dB required')"
   ]
  }
 ],
 "metadata": {
  "kernelspec": {
   "display_name": "Python 3",
   "language": "python",
   "name": "python3"
  },
  "language_info": {
   "codemirror_mode": {
    "name": "ipython",
    "version": 3
   },
   "file_extension": ".py",
   "mimetype": "text/x-python",
   "name": "python",
   "nbconvert_exporter": "python",
   "pygments_lexer": "ipython3",
   "version": "3.6.6"
  }
 },
 "nbformat": 4,
 "nbformat_minor": 2
}
